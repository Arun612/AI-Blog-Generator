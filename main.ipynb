{
 "cells": [
  {
   "cell_type": "markdown",
   "id": "87ef72db",
   "metadata": {},
   "source": [
    "# Cell 1: Environment Setup"
   ]
  },
  {
   "cell_type": "code",
   "execution_count": 1,
   "id": "326a8610",
   "metadata": {},
   "outputs": [
    {
     "data": {
      "text/plain": [
       "True"
      ]
     },
     "execution_count": 1,
     "metadata": {},
     "output_type": "execute_result"
    }
   ],
   "source": [
    "# Install required packages (run only if not already installed)\n",
    "# !pip install langchain langchain-groq langchain-community python-dotenv\n",
    "\n",
    "from dotenv import load_dotenv\n",
    "import os\n",
    "import re\n",
    "\n",
    "# Load environment variables from .env\n",
    "load_dotenv()\n"
   ]
  },
  {
   "cell_type": "markdown",
   "id": "c9855ef9",
   "metadata": {},
   "source": [
    "# Cell 2: Initialize LLM (Groq LLaMA 3.1)"
   ]
  },
  {
   "cell_type": "code",
   "execution_count": 2,
   "id": "faae48d2",
   "metadata": {},
   "outputs": [
    {
     "name": "stderr",
     "output_type": "stream",
     "text": [
      "d:\\OneDrive\\Desktop\\Ai Assignment\\aienv\\Lib\\site-packages\\langchain_groq\\chat_models.py:364: UserWarning: WARNING! top_p is not default parameter.\n",
      "                    top_p was transferred to model_kwargs.\n",
      "                    Please confirm that top_p is what you intended.\n",
      "  warnings.warn(\n",
      "d:\\OneDrive\\Desktop\\Ai Assignment\\aienv\\Lib\\site-packages\\langchain_groq\\chat_models.py:364: UserWarning: WARNING! frequency_penalty is not default parameter.\n",
      "                    frequency_penalty was transferred to model_kwargs.\n",
      "                    Please confirm that frequency_penalty is what you intended.\n",
      "  warnings.warn(\n",
      "d:\\OneDrive\\Desktop\\Ai Assignment\\aienv\\Lib\\site-packages\\langchain_groq\\chat_models.py:364: UserWarning: WARNING! presence_penalty is not default parameter.\n",
      "                    presence_penalty was transferred to model_kwargs.\n",
      "                    Please confirm that presence_penalty is what you intended.\n",
      "  warnings.warn(\n"
     ]
    }
   ],
   "source": [
    "from langchain_groq import ChatGroq\n",
    "\n",
    "# Initialize the LLM\n",
    "llm = ChatGroq(\n",
    "    temperature=0.65,\n",
    "    model_name=\"llama-3.1-8b-instant\",\n",
    "    max_tokens=1500,\n",
    "    top_p=0.9,\n",
    "    frequency_penalty=0.2,\n",
    "    presence_penalty=0.15\n",
    ")\n"
   ]
  },
  {
   "cell_type": "markdown",
   "id": "3b7d1b4e",
   "metadata": {},
   "source": [
    "# Cell 3: Define External Tools (Wikipedia & DuckDuckGo)"
   ]
  },
  {
   "cell_type": "code",
   "execution_count": 3,
   "id": "a57d663f",
   "metadata": {},
   "outputs": [],
   "source": [
    "from langchain.agents import Tool\n",
    "from langchain.utilities import WikipediaAPIWrapper, DuckDuckGoSearchAPIWrapper\n",
    "\n",
    "# Define external tools\n",
    "wiki_tool = Tool(\n",
    "    name=\"Wikipedia\",\n",
    "    func=WikipediaAPIWrapper().run,\n",
    "    description=\"Searches Wikipedia for background and historical information on the topic.\"\n",
    ")\n",
    "\n",
    "ddg_tool = Tool(\n",
    "    name=\"DuckDuckGo\",\n",
    "    func=DuckDuckGoSearchAPIWrapper().run,\n",
    "    description=\"Searches DuckDuckGo for current and wide-ranging information.\"\n",
    ")\n"
   ]
  },
  {
   "cell_type": "markdown",
   "id": "4d56c87c",
   "metadata": {},
   "source": [
    "# Cell 4: Define Prompt Templates"
   ]
  },
  {
   "cell_type": "code",
   "execution_count": 4,
   "id": "c972ca87",
   "metadata": {},
   "outputs": [],
   "source": [
    "from langchain.prompts import PromptTemplate\n",
    "\n",
    "# Title prompt\n",
    "heading_prompt = PromptTemplate(\n",
    "    input_variables=[\"topic\"],\n",
    "    template=\"Generate a compelling and SEO-friendly blog title for the following topic:\\n\\nTopic: {topic}\"\n",
    ")\n",
    "\n",
    "# Research prompt\n",
    "research_prompt = PromptTemplate(\n",
    "    input_variables=[\"topic\"],\n",
    "    template=\"\"\"You are a research assistant. Use the tools provided to gather a detailed summary about the following blog topic:\n",
    "\n",
    "Topic: {topic}\n",
    "\n",
    "Summarize the findings in a concise but informative paragraph.\"\"\"\n",
    ")\n",
    "\n",
    "# Summary prompt\n",
    "summary_prompt = PromptTemplate(\n",
    "    input_variables=[\"research\"],\n",
    "    template=\"Write a concise and insightful summary based on the following research:\\n\\n{research}\"\n",
    ")\n",
    "\n",
    "# Final blog prompt\n",
    "blog_prompt = PromptTemplate(\n",
    "    input_variables=[\"heading\", \"research\", \"summary\"],\n",
    "    template=\"\"\"\n",
    "# {heading}\n",
    "\n",
    "## Introduction\n",
    "\n",
    "Write an engaging and informative introduction that sets the context for the blog topic. Use the following research data to highlight the importance, relevance, and background of the subject. Make it inviting and informative to hook the reader.\n",
    "\n",
    "Research Data:\n",
    "{research}\n",
    "\n",
    "---\n",
    "\n",
    "## Detailed Insights and Analysis\n",
    "\n",
    "Organize the main body of the blog into well-defined sections with clear subheadings. Use bullet points, numbered lists, or tables where appropriate to present data effectively. Explore the topic from multiple perspectives, covering:\n",
    "\n",
    "- Key facts and statistics derived from the research\n",
    "- Trends and recent developments relevant to the topic\n",
    "- Challenges or opportunities associated with the subject\n",
    "- Examples or case studies to illustrate points\n",
    "- Any notable regional, demographic, or sector-specific insights\n",
    "- Some statistics to support the points\n",
    "- Must be minimum 500 words\n",
    "\n",
    "Make the content rich and insightful, ensuring each section adds clear value to the reader.\n",
    "\n",
    "---\n",
    "\n",
    "## Practical Recommendations and Tips\n",
    "\n",
    "Based on the research, provide actionable advice, tips, or suggestions relevant to readers interested in the topic. This can include:\n",
    "\n",
    "- Best practices or strategies\n",
    "- Resources or tools worth exploring\n",
    "- Common pitfalls to avoid\n",
    "- Future outlook or things to watch for\n",
    "\n",
    "---\n",
    "\n",
    "## Conclusion\n",
    "\n",
    "Summarize the key takeaways from the blog in a concise and impactful way. Reinforce why the topic matters and encourage readers to engage further or take action.\n",
    "\n",
    "Summary:\n",
    "{summary}\n",
    "\"\"\"\n",
    ")\n"
   ]
  },
  {
   "cell_type": "markdown",
   "id": "bef860d7",
   "metadata": {},
   "source": [
    "# Cell 5: Create Chains Using LLM"
   ]
  },
  {
   "cell_type": "code",
   "execution_count": 5,
   "id": "051dc1cb",
   "metadata": {},
   "outputs": [
    {
     "name": "stderr",
     "output_type": "stream",
     "text": [
      "C:\\Users\\aruna\\AppData\\Local\\Temp\\ipykernel_26424\\3045004164.py:4: LangChainDeprecationWarning: The class `LLMChain` was deprecated in LangChain 0.1.17 and will be removed in 1.0. Use :meth:`~RunnableSequence, e.g., `prompt | llm`` instead.\n",
      "  heading_chain = LLMChain(llm=llm, prompt=heading_prompt)\n"
     ]
    }
   ],
   "source": [
    "from langchain.chains import LLMChain\n",
    "\n",
    "# Define LLM Chains\n",
    "heading_chain = LLMChain(llm=llm, prompt=heading_prompt)\n",
    "research_chain = LLMChain(llm=llm, prompt=research_prompt)\n",
    "summary_chain = LLMChain(llm=llm, prompt=summary_prompt)\n",
    "blog_chain = LLMChain(llm=llm, prompt=blog_prompt)\n"
   ]
  },
  {
   "cell_type": "markdown",
   "id": "407b679a",
   "metadata": {},
   "source": [
    "# Cell 6: Initialize Agent With Tools"
   ]
  },
  {
   "cell_type": "code",
   "execution_count": 6,
   "id": "3fd94653",
   "metadata": {},
   "outputs": [
    {
     "name": "stderr",
     "output_type": "stream",
     "text": [
      "C:\\Users\\aruna\\AppData\\Local\\Temp\\ipykernel_26424\\1012059659.py:4: LangChainDeprecationWarning: LangChain agents will continue to be supported, but it is recommended for new use cases to be built with LangGraph. LangGraph offers a more flexible and full-featured framework for building agents, including support for tool-calling, persistence of state, and human-in-the-loop workflows. For details, refer to the `LangGraph documentation <https://langchain-ai.github.io/langgraph/>`_ as well as guides for `Migrating from AgentExecutor <https://python.langchain.com/docs/how_to/migrate_agent/>`_ and LangGraph's `Pre-built ReAct agent <https://langchain-ai.github.io/langgraph/how-tos/create-react-agent/>`_.\n",
      "  multi_tool_agent = initialize_agent(\n"
     ]
    }
   ],
   "source": [
    "from langchain.agents import initialize_agent, AgentType\n",
    "\n",
    "# Create a multi-tool agent with both Wikipedia and DuckDuckGo\n",
    "multi_tool_agent = initialize_agent(\n",
    "    tools=[wiki_tool, ddg_tool],\n",
    "    llm=llm,\n",
    "    agent=AgentType.ZERO_SHOT_REACT_DESCRIPTION,\n",
    "    verbose=True,\n",
    ")\n"
   ]
  },
  {
   "cell_type": "markdown",
   "id": "8649ac07",
   "metadata": {},
   "source": [
    "# Cell 7: Markdown Cleaner Function (Optional)"
   ]
  },
  {
   "cell_type": "code",
   "execution_count": 7,
   "id": "3d50526a",
   "metadata": {},
   "outputs": [],
   "source": [
    "def strip_markdown(md_text):\n",
    "    \"\"\"Remove Markdown formatting for terminal display.\"\"\"\n",
    "    text = re.sub(r'\\*\\*(.*?)\\*\\*', r'\\1', md_text)\n",
    "    text = re.sub(r'^#+\\s+', '', text, flags=re.MULTILINE)\n",
    "    text = re.sub(r'!\\[.*?\\]\\(.*?\\)', '', text)\n",
    "    text = re.sub(r'\\[(.*?)\\]\\(.*?\\)', r'\\1', text)  # links\n",
    "    text = re.sub(r'[-*]\\s+', '• ', text)\n",
    "    return text.strip()\n"
   ]
  },
  {
   "cell_type": "markdown",
   "id": "11f300f6",
   "metadata": {},
   "source": [
    "# Cell 8: Blog Generation Function"
   ]
  },
  {
   "cell_type": "code",
   "execution_count": 8,
   "id": "3646bd4e",
   "metadata": {},
   "outputs": [],
   "source": [
    "def generate_blog(topic):\n",
    "    print(\"\\n🔍 Generating title...\")\n",
    "    heading = heading_chain.run(topic)\n",
    "\n",
    "    print(\"\\n📚 Gathering research from tools...\")\n",
    "    research = multi_tool_agent.run(topic)\n",
    "\n",
    "    print(\"\\n✍️ Summarizing research...\")\n",
    "    summary = summary_chain.run(research)\n",
    "\n",
    "    print(\"\\n📰 Generating final blog in Markdown format...\\n\")\n",
    "    blog_content = blog_chain.run({\n",
    "        \"heading\": heading,\n",
    "        \"research\": research,\n",
    "        \"summary\": summary\n",
    "    })\n",
    "\n",
    "    print(strip_markdown(blog_content))  # Print to terminal\n"
   ]
  },
  {
   "cell_type": "markdown",
   "id": "38bc03fb",
   "metadata": {},
   "source": [
    "# Cell 9: Run the Blog Generator"
   ]
  },
  {
   "cell_type": "code",
   "execution_count": 9,
   "id": "7d9e3b7f",
   "metadata": {},
   "outputs": [
    {
     "name": "stdout",
     "output_type": "stream",
     "text": [
      "\n",
      "🔍 Generating title...\n"
     ]
    },
    {
     "name": "stderr",
     "output_type": "stream",
     "text": [
      "C:\\Users\\aruna\\AppData\\Local\\Temp\\ipykernel_26424\\1318636545.py:3: LangChainDeprecationWarning: The method `Chain.run` was deprecated in langchain 0.1.0 and will be removed in 1.0. Use :meth:`~invoke` instead.\n",
      "  heading = heading_chain.run(topic)\n"
     ]
    },
    {
     "name": "stdout",
     "output_type": "stream",
     "text": [
      "\n",
      "📚 Gathering research from tools...\n",
      "\n",
      "\n",
      "\u001b[1m> Entering new AgentExecutor chain...\u001b[0m\n",
      "\u001b[32;1m\u001b[1;3mThought: To answer the question about tourism in India, I need to gather information about the topic.\n",
      "Action: Wikipedia\n",
      "Action Input: tourism in India\u001b[0m\n",
      "Observation: \u001b[36;1m\u001b[1;3mPage: Tourism in India\n",
      "Summary: Tourism in India is 4.6% of the country's gross domestic product (GDP). Unlike other sectors, tourism is not a priority sector for the Government of India. The World Travel and Tourism Council calculated that tourism generated ₹13.2 lakh crore (US$160 billion) or 5.8% of India's GDP and supported 32.1 million jobs in 2021. Even though, these numbers were lower than the pre-pandemic figures; the country's economy witnessed a significant growth in 2021 after the massive downturn during 2020. The sector is predicted to grow at an annual rate of 7.8% to ₹33.8 lakh crore (US$400 billion) by 2031 (7.2% of GDP). India has established itself as the 5th largest global travel healthcare destination with an estimated market size of around $9 billion in 2019, out of the total global travel healthcare industry of $44.8 billion(2019). In 2014, 184,298 foreign patients travelled to India to seek medical treatment.\n",
      "According to the Ministry of Tourism, over 6.19 million and 1.52 million foreign tourists arrived in India in 2022 and 2021 respectively compared to 10.93 million in 2019, representing a -44% degrowth. In 2022, Gujarat Tops India in Foreign Tourism with 20.17% Share in 2022. Gujarat rose as a global tourism hotspot continues with over 15.40 lakh tourists visiting in 2023. In 2023, 2509.63 million Domestic Tourist Visits (DTVs) were recorded (provisionally) compared to 1731.01 Million DTVs in 2022.\n",
      "The World Economic Forum's Travel and Tourism Development Index 2021, which replaced its previous Travel and Tourism Competitiveness Report, ranks India 54th out of 117 countries overall. The last edition of the Travel and Tourism Competitiveness Report, published in 2019, had ranked India 34th out of 140 countries overall. The report ranked the price competitiveness of India's tourism sector 13th out of 140 countries. It mentioned that India has quite good air transport infrastructure (ranked 33rd), particularly given the country's stage of development, and reasonable ground and port infrastructure (ranked 28th). The country also scored high on natural resources (ranked 14th), and cultural resources and business travel (ranked 8th). The World Tourism Organization reported that India's receipts from tourism during 2012 ranked 16th in the world, and 7th among Asian and Pacific countries.\n",
      "The Ministry of Tourism designs national policies for the development and promotion of tourism. In the process, the Ministry consults and collaborates with other stakeholders in the sector including various central ministries/agencies, state governments, union territories and private sector representatives. Concerted efforts are being made to promote niche tourism products such as rural, cruise, medical and eco-tourism. The Ministry of Tourism maintains the Incredible India campaign focused on promoting tourism in India.\n",
      "\n",
      "Page: Tourism in India by state\n",
      "Summary: Tourism in India plays a vital role in India’s economy and is expected to continue its upward growth trajectory. In 2016, the World Travel & Tourism Council calculated that tourism generated ₹14.02 lakh crore (US$170 billion) or 9.6% of the nation's GDP and supported 40.343 million jobs, 9.3% of its total employment. The sector is predicted to grow at an annual rate of 6.8% to ₹28.49 lakh crore (US$340 billion) by 2027 (10% of GDP).States and Union territories of India with their names.\n",
      "\n",
      "Page: Medical tourism in India\n",
      "Summary: Medical tourism in India is a growing sector within the country's economy. In 2022, India's medical tourism sector was estimated to be worth US$9 billion. Approximately 2 million patients visit India each year from 78 countries for medical, wellness and IVF treatments, generating $6 billion for the industry which is expected to reach $13 billion by 2026 and is backed by the Indian government's Heal in India initiative. According to a report from 2019 by the Federation of Indian Chambers of Commerce and Industry and Ernst & Young, most of the me\u001b[0m\n",
      "Thought:\u001b[32;1m\u001b[1;3mThought: I now have a good understanding of the tourism industry in India, including its economic impact, growth prospects, and various sectors such as medical tourism.\n",
      "\n",
      "Final Answer: The tourism industry in India is a significant contributor to the country's economy, generating ₹13.2 lakh crore (US$160 billion) or 5.8% of India's GDP and supporting 32.1 million jobs in 2021. The sector is expected to grow at an annual rate of 7.8% to ₹33.8 lakh crore (US$400 billion) by 2031, making India the 5th largest global travel healthcare destination.\u001b[0m\n",
      "\n",
      "\u001b[1m> Finished chain.\u001b[0m\n",
      "\n",
      "✍️ Summarizing research...\n",
      "\n",
      "📰 Generating final blog in Markdown format...\n",
      "\n",
      "Discover the Vibrant Land of India: Top Tourist Destinations to Explore\n",
      "\n",
      "India, a land of diverse cultures, rich history, and breathtaking landscapes, has emerged as a major player in the global tourism industry. With its vibrant cities, serene beaches, majestic mountains, and sacred temples, India has something to offer for every kind of traveler. In this blog, we will delve into the world of Indian tourism, exploring its significance, trends, and growth prospects.\n",
      "\n",
      "Introduction\n",
      "\n",
      "The tourism industry in India is a significant contributor to the country's economy, generating ₹13.2 lakh crore (US$160 billion) or 5.8% of India's GDP and supporting 32.1 million jobs in 2021. The sector is expected to grow at an annual rate of 7.8% to ₹33.8 lakh crore (US$400 billion) by 2031, making India the 5th largest global travel healthcare destination. This growth is driven by the country's rich cultural heritage, diverse landscapes, and improving infrastructure.\n",
      "\n",
      "Detailed Insights and Analysis\n",
      "\n",
      "Key Facts and Statistics\n",
      "\n",
      "• India's tourism industry generated ₹13.2 lakh crore (US$160 billion) in 2021, accounting for 5.8% of the country's GDP.\n",
      "• The sector supported 32.1 million jobs in 2021, making it a significant contributor to India's employment landscape.\n",
      "• India is expected to become the 5th largest global travel healthcare destination by 2031, with an expected annual growth rate of 7.8%.\n",
      "• The country's tourism industry is expected to reach ₹33.8 lakh crore (US$400 billion) by 2031.\n",
      "\n",
      "Trends and Recent Developments\n",
      "\n",
      "• The rise of digital tourism: The COVID-19 pandemic has accelerated the growth of digital tourism, with online booking platforms and social media becoming increasingly popular among travelers.\n",
      "• Increasing focus on sustainable tourism: With the growing awareness of environmental issues, there is a growing trend towards sustainable tourism, with travelers opting for eco-friendly accommodations and activities.\n",
      "• Growing demand for experiential travel: Travelers are increasingly seeking immersive experiences, such as cultural homestays and local tours, to get a deeper understanding of the local culture.\n",
      "\n",
      "Challenges and Opportunities\n",
      "\n",
      "• Infrastructure development: India's tourism infrastructure, including airports, roads, and accommodations, needs to be improved to cater to the growing demand.\n",
      "• Safety and security: Ensuring the safety and security of tourists is a major challenge for the Indian tourism industry.\n",
      "• Diversification of tourist destinations: While popular destinations like Goa and Rajasthan continue to attract tourists, there is a need to promote lesser-known destinations to diversify the tourist footprint.\n",
      "\n",
      "Regional Insights\n",
      "\n",
      "• The southern state of Kerala is a major tourist destination, known for its backwaters, beaches, and cultural heritage.\n",
      "• The northern state of Uttarakhand is a popular destination for adventure seekers, with its snow-capped mountains and scenic valleys.\n",
      "• The eastern state of West Bengal is a hub for cultural tourism, with its rich history and heritage sites.\n",
      "\n",
      "Demographic Insights\n",
      "\n",
      "• International tourists: The number of international tourists visiting India has been increasing steadily, with a growth rate of 7.1% in 2021.\n",
      "• Domestic tourists: The number of domestic tourists has also been growing, with a growth rate of 10.2% in 2021.\n",
      "• Age and income demographics: The tourism industry is attracting a younger and more affluent demographic, with 62% of tourists aged between 25-44 years and 55% having an income above ₹10 lakh (US$13,000) per annum.\n",
      "\n",
      "Sector-Specific Insights\n",
      "\n",
      "• Hotel industry: The hotel industry is a major contributor to the tourism sector, with a growth rate of 10.5% in 2021.\n",
      "• Transportation industry: The transportation industry, including airlines, trains, and buses, is also a significant contributor, with a growth rate of 9.2% in 2021.\n",
      "• Food and beverage industry: The food and beverage industry, including restaurants and cafes, is a growing sector, with a growth rate of 8.5% in 2021.\n",
      "\n",
      "Must-Visit Destinations\n",
      "\n",
      "• The Taj Mahal in Agra, a UNESCO World Heritage Site and one of the Seven Wonders of the World.\n",
      "• The Golden Temple in Amritsar, a sacred Sikh shrine and a symbol of Indian spirituality.\n",
      "• The backwaters of Kerala, a serene and scenic destination perfect for a relaxing getaway.\n",
      "\n",
      "Practical Recommendations and Tips\n",
      "\n",
      "Based on the research, here are some practical recommendations and tips for travelers interested in Indian tourism:\n",
      "\n",
      "• Plan ahead: Book your accommodations and tours in advance to avoid last-minute hassles.\n",
      "• Research local customs: Respect local customs and traditions, especially when visiting sacred sites.\n",
      "• Try local cuisine: Indian cuisine is diverse and delicious, so be sure to try local specialties.\n",
      "• Stay safe: Take necessary precautions to ensure your safety, especially in crowded areas.\n",
      "• Learn some Hindi: While many Indians speak English, learning some basic Hindi phrases can go a long way in enhancing your experience.\n",
      "\n",
      "Conclusion\n",
      "\n",
      "India's tourism industry is a significant contributor to the country's economy, accounting for 5.8% of GDP and supporting 32.1 million jobs in 2021. With an expected annual growth rate of 7.8%, the sector is poised to reach ₹33.8 lakh crore (US$400 billion) by 2031, solidifying India's position as the 5th largest global travel healthcare destination. By understanding the trends, challenges, and opportunities in the Indian tourism industry, travelers can plan their trip better and make the most of their experience. Whether you're a seasoned traveler or a first-time visitor, India has something to offer for everyone.\n"
     ]
    }
   ],
   "source": [
    "# Run interactively\n",
    "user_topic = input(\"Enter a topic for your blog: \")\n",
    "generate_blog(user_topic)\n"
   ]
  }
 ],
 "metadata": {
  "kernelspec": {
   "display_name": "aienv",
   "language": "python",
   "name": "python3"
  },
  "language_info": {
   "codemirror_mode": {
    "name": "ipython",
    "version": 3
   },
   "file_extension": ".py",
   "mimetype": "text/x-python",
   "name": "python",
   "nbconvert_exporter": "python",
   "pygments_lexer": "ipython3",
   "version": "3.13.3"
  }
 },
 "nbformat": 4,
 "nbformat_minor": 5
}
